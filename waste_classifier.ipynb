{
  "cells": [
    {
      "cell_type": "code",
      "execution_count": null,
      "metadata": {
        "colab": {
          "base_uri": "https://localhost:8080/"
        },
        "id": "vEFNQ9ibzh0G",
        "outputId": "79008d98-3888-45d7-ce14-3a027dcfc08d"
      },
      "outputs": [
        {
          "name": "stdout",
          "output_type": "stream",
          "text": [
            "Mounted at /content/drive\n"
          ]
        }
      ],
      "source": [
        "from google.colab import drive\n",
        "drive.mount('/content/drive')"
      ]
    },
    {
      "cell_type": "code",
      "execution_count": null,
      "metadata": {
        "colab": {
          "base_uri": "https://localhost:8080/"
        },
        "id": "4ew1lbWdzwCN",
        "outputId": "e8bd4fe5-77bf-4f12-aefa-42626839483d"
      },
      "outputs": [
        {
          "name": "stdout",
          "output_type": "stream",
          "text": [
            "\u001b[0m\u001b[01;34mTEST\u001b[0m/  \u001b[01;34mTRAIN\u001b[0m/\n"
          ]
        }
      ],
      "source": [
        "ls '/content/drive/MyDrive/Colab Notebooks/VLSI Project/DATASET'"
      ]
    },
    {
      "cell_type": "code",
      "execution_count": null,
      "metadata": {
        "id": "PinulSYT0nCL"
      },
      "outputs": [],
      "source": [
        "import os\n",
        "import cv2\n",
        "import numpy as np"
      ]
    },
    {
      "cell_type": "code",
      "execution_count": null,
      "metadata": {
        "id": "isac8Bg86lom"
      },
      "outputs": [],
      "source": [
        "X_train = []\n",
        "y_train = []"
      ]
    },
    {
      "cell_type": "code",
      "execution_count": null,
      "metadata": {
        "id": "uhcH_-zc05Rq"
      },
      "outputs": [],
      "source": [
        "for img_path in os.listdir('/content/drive/MyDrive/Colab Notebooks/VLSI Project/DATASET/TRAIN/R'): \n",
        "  img = cv2.imread(f\"/content/drive/MyDrive/Colab Notebooks/VLSI Project/DATASET/TRAIN/R/{img_path}\")\n",
        "  img = cv2.cvtColor(img, cv2.COLOR_BGR2GRAY)\n",
        "  img = cv2.resize(img, (28, 28))\n",
        "  img = img/255\n",
        "  X_train.append(img)\n",
        "  y_train.append(1)\n",
        "\n",
        "for img_path in os.listdir('/content/drive/MyDrive/Colab Notebooks/VLSI Project/DATASET/TRAIN/O'): \n",
        "  img = cv2.imread(f\"/content/drive/MyDrive/Colab Notebooks/VLSI Project/DATASET/TRAIN/O/{img_path}\")\n",
        "  img = cv2.cvtColor(img, cv2.COLOR_BGR2GRAY)\n",
        "  img = cv2.resize(img, (28, 28))\n",
        "  img = img/255\n",
        "  X_train.append(img)\n",
        "  y_train.append(0)"
      ]
    },
    {
      "cell_type": "code",
      "execution_count": null,
      "metadata": {
        "id": "zyATFUd91PT1"
      },
      "outputs": [],
      "source": [
        "X_train = np.array(X_train)\n",
        "y_train = np.array(y_train)"
      ]
    },
    {
      "cell_type": "code",
      "execution_count": null,
      "metadata": {
        "colab": {
          "base_uri": "https://localhost:8080/"
        },
        "id": "4ZzB-e4L7_Yr",
        "outputId": "06ac7694-f36c-4ee8-841e-469c770693bc"
      },
      "outputs": [
        {
          "name": "stdout",
          "output_type": "stream",
          "text": [
            "(21859, 28, 28) (21859,)\n"
          ]
        }
      ],
      "source": [
        "print(X_train.shape, y_train.shape)"
      ]
    },
    {
      "cell_type": "code",
      "execution_count": null,
      "metadata": {
        "id": "sGG2zJof8HBU"
      },
      "outputs": [],
      "source": [
        "X_test = []\n",
        "y_test = []"
      ]
    },
    {
      "cell_type": "code",
      "execution_count": null,
      "metadata": {
        "colab": {
          "background_save": true
        },
        "id": "FACn7QLu8OuK"
      },
      "outputs": [],
      "source": [
        "for img_path in os.listdir('/content/drive/MyDrive/Colab Notebooks/VLSI Project/DATASET/TEST/R'): \n",
        "  img = cv2.imread(f\"/content/drive/MyDrive/Colab Notebooks/VLSI Project/DATASET/TEST/R/{img_path}\")\n",
        "  img = cv2.cvtColor(img, cv2.COLOR_BGR2GRAY)\n",
        "  img = cv2.resize(img, (28, 28))\n",
        "  img = img/255\n",
        "  X_test.append(img)\n",
        "  y_test.append(1)\n",
        "\n",
        "for img_path in os.listdir('/content/drive/MyDrive/Colab Notebooks/VLSI Project/DATASET/TEST/O'): \n",
        "  img = cv2.imread(f\"/content/drive/MyDrive/Colab Notebooks/VLSI Project/DATASET/TEST/O/{img_path}\")\n",
        "  img = cv2.cvtColor(img, cv2.COLOR_BGR2GRAY)\n",
        "  img = cv2.resize(img, (28, 28))\n",
        "  img = img/255\n",
        "  X_test.append(img)\n",
        "  y_test.append(0)"
      ]
    },
    {
      "cell_type": "code",
      "execution_count": null,
      "metadata": {
        "colab": {
          "background_save": true
        },
        "id": "SmYz7xEP-L48"
      },
      "outputs": [],
      "source": [
        "X_test = np.array(X_test)\n",
        "y_test = np.array(y_test)"
      ]
    },
    {
      "cell_type": "code",
      "execution_count": null,
      "metadata": {
        "colab": {
          "background_save": true
        },
        "id": "VNV7tRvR-PeI",
        "outputId": "1a736490-8c2e-4c9f-d8c2-5a4409beac64"
      },
      "outputs": [
        {
          "name": "stdout",
          "output_type": "stream",
          "text": [
            "(2513, 28, 28) (2513,)\n"
          ]
        }
      ],
      "source": [
        "print(X_test.shape, y_test.shape)"
      ]
    },
    {
      "cell_type": "code",
      "execution_count": null,
      "metadata": {
        "colab": {
          "background_save": true
        },
        "id": "iPrZdZPR-fKC"
      },
      "outputs": [],
      "source": [
        "import tensorflow as tf\n",
        "from tensorflow import keras"
      ]
    },
    {
      "cell_type": "code",
      "execution_count": null,
      "metadata": {
        "colab": {
          "background_save": true
        },
        "id": "pec48Fw3-4kg"
      },
      "outputs": [],
      "source": [
        "model = keras.Sequential([\n",
        "    keras.layers.Flatten(input_shape = (28, 28)), \n",
        "    keras.layers.Dense(100, activation = 'relu'),\n",
        "    keras.layers.Dense(2, activation = 'softmax')\n",
        "])"
      ]
    },
    {
      "cell_type": "code",
      "execution_count": null,
      "metadata": {
        "colab": {
          "background_save": true
        },
        "id": "8M3HNrHUBjNm",
        "outputId": "a589ac2e-3def-42db-c91e-4d402331df36"
      },
      "outputs": [
        {
          "name": "stdout",
          "output_type": "stream",
          "text": [
            "Model: \"sequential\"\n",
            "_________________________________________________________________\n",
            " Layer (type)                Output Shape              Param #   \n",
            "=================================================================\n",
            " flatten (Flatten)           (None, 784)               0         \n",
            "                                                                 \n",
            " dense (Dense)               (None, 100)               78500     \n",
            "                                                                 \n",
            " dense_1 (Dense)             (None, 2)                 202       \n",
            "                                                                 \n",
            "=================================================================\n",
            "Total params: 78,702\n",
            "Trainable params: 78,702\n",
            "Non-trainable params: 0\n",
            "_________________________________________________________________\n"
          ]
        }
      ],
      "source": [
        "model.summary()"
      ]
    },
    {
      "cell_type": "code",
      "execution_count": null,
      "metadata": {
        "colab": {
          "background_save": true
        },
        "id": "4qyKP12kCteK"
      },
      "outputs": [],
      "source": [
        "model.compile(optimizer = 'adam', loss = 'sparse_categorical_crossentropy', metrics = ['accuracy'])"
      ]
    },
    {
      "cell_type": "code",
      "execution_count": null,
      "metadata": {
        "colab": {
          "background_save": true
        },
        "id": "EoS6NAvACcIX",
        "outputId": "91848cbc-f585-46e4-87de-f75b6f3b6d8e"
      },
      "outputs": [
        {
          "name": "stdout",
          "output_type": "stream",
          "text": [
            "Epoch 1/10\n",
            "684/684 [==============================] - 2s 3ms/step - loss: 0.6899 - accuracy: 0.5660\n",
            "Epoch 2/10\n",
            "684/684 [==============================] - 2s 3ms/step - loss: 0.6598 - accuracy: 0.6072\n",
            "Epoch 3/10\n",
            "684/684 [==============================] - 2s 3ms/step - loss: 0.6487 - accuracy: 0.6304\n",
            "Epoch 4/10\n",
            "684/684 [==============================] - 2s 3ms/step - loss: 0.6398 - accuracy: 0.6440\n",
            "Epoch 5/10\n",
            "684/684 [==============================] - 2s 3ms/step - loss: 0.6339 - accuracy: 0.6505\n",
            "Epoch 6/10\n",
            "684/684 [==============================] - 2s 3ms/step - loss: 0.6299 - accuracy: 0.6527\n",
            "Epoch 7/10\n",
            "684/684 [==============================] - 2s 3ms/step - loss: 0.6263 - accuracy: 0.6541\n",
            "Epoch 8/10\n",
            "684/684 [==============================] - 2s 3ms/step - loss: 0.6208 - accuracy: 0.6615\n",
            "Epoch 9/10\n",
            "684/684 [==============================] - 2s 3ms/step - loss: 0.6189 - accuracy: 0.6620\n",
            "Epoch 10/10\n",
            "684/684 [==============================] - 2s 3ms/step - loss: 0.6134 - accuracy: 0.6672\n"
          ]
        },
        {
          "data": {
            "text/plain": [
              "<keras.callbacks.History at 0x7fda8b757510>"
            ]
          },
          "execution_count": 16,
          "metadata": {},
          "output_type": "execute_result"
        }
      ],
      "source": [
        "model.fit(X_train, y_train, epochs=10)"
      ]
    },
    {
      "cell_type": "code",
      "execution_count": null,
      "metadata": {
        "colab": {
          "background_save": true
        },
        "id": "JcK7nEoiCqwj",
        "outputId": "4788d88b-f914-42ef-85c7-37da78272cdf"
      },
      "outputs": [
        {
          "name": "stdout",
          "output_type": "stream",
          "text": [
            "79/79 [==============================] - 0s 2ms/step - loss: 0.5972 - accuracy: 0.7004\n"
          ]
        },
        {
          "data": {
            "text/plain": [
              "[0.5971845984458923, 0.7003581523895264]"
            ]
          },
          "execution_count": 17,
          "metadata": {},
          "output_type": "execute_result"
        }
      ],
      "source": [
        "model.evaluate(X_test, y_test)"
      ]
    },
    {
      "cell_type": "code",
      "execution_count": null,
      "metadata": {
        "colab": {
          "background_save": true
        },
        "id": "OJeo0EjYS48Y",
        "outputId": "13c778a2-489e-41f2-b574-06f2be76c395"
      },
      "outputs": [
        {
          "data": {
            "text/plain": [
              "1"
            ]
          },
          "execution_count": 18,
          "metadata": {},
          "output_type": "execute_result"
        }
      ],
      "source": [
        "from scipy.special import softmax\n",
        "\n",
        "weights = model.get_weights()[0]\n",
        "prediction = np.dot(X_train.flatten().reshape(21859, 28*28), weights) \n",
        "prediction[prediction < 0] = 0\n",
        "prediction[:, -1] = 1\n",
        "weights = model.get_weights()[2]\n",
        "prediction = np.dot(prediction, weights)\n",
        "prediction = softmax(prediction)\n",
        "\n",
        "np.argmax(prediction[34])"
      ]
    },
    {
      "cell_type": "code",
      "execution_count": null,
      "metadata": {
        "colab": {
          "background_save": true
        },
        "id": "CgBekBBqUJjK",
        "outputId": "e08f7431-5a71-4e60-d453-b28da457ce8b"
      },
      "outputs": [
        {
          "data": {
            "text/plain": [
              "1"
            ]
          },
          "execution_count": 19,
          "metadata": {},
          "output_type": "execute_result"
        }
      ],
      "source": [
        "y_train[34]"
      ]
    },
    {
      "cell_type": "code",
      "execution_count": null,
      "metadata": {
        "colab": {
          "background_save": true
        },
        "id": "nVFgd1SmWUt4",
        "outputId": "8317077e-7a5e-4412-dbba-dc50d4103086"
      },
      "outputs": [
        {
          "data": {
            "text/plain": [
              "(784, 100)"
            ]
          },
          "execution_count": 20,
          "metadata": {},
          "output_type": "execute_result"
        }
      ],
      "source": [
        "model.get_weights()[0].shape"
      ]
    },
    {
      "cell_type": "code",
      "execution_count": null,
      "metadata": {
        "colab": {
          "background_save": true
        },
        "id": "NuuArlOzcBPH"
      },
      "outputs": [],
      "source": [
        "np.savetxt('w1.txt', model.get_weights()[0] ,fmt='%1.4e', delimiter=',')\n",
        "\n",
        "total = \"\"\n",
        "with open(\"w1.txt\", \"r\") as f:\n",
        "    texts = f.readlines()\n",
        "    for text in texts:\n",
        "        total += str(text.split(\",\")).replace(\"[\", \"{\").replace(\"]\", \"}\")\n",
        "        total += \", \"\n",
        "with open(\"w1-proc.txt\", \"w\") as f:\n",
        "    f.write(total)"
      ]
    },
    {
      "cell_type": "code",
      "execution_count": null,
      "metadata": {
        "colab": {
          "background_save": true
        },
        "id": "HrVpxu4icPeY",
        "outputId": "ed3d6272-4ddc-4e38-8983-9b39b94e941e"
      },
      "outputs": [
        {
          "data": {
            "text/plain": [
              "(100, 2)"
            ]
          },
          "execution_count": 22,
          "metadata": {},
          "output_type": "execute_result"
        }
      ],
      "source": [
        "model.get_weights()[2].shape"
      ]
    },
    {
      "cell_type": "code",
      "execution_count": null,
      "metadata": {
        "colab": {
          "background_save": true
        },
        "id": "g7cD04b8cRb0"
      },
      "outputs": [],
      "source": [
        "np.savetxt('w2.txt', model.get_weights()[2] ,fmt='%1.4e', delimiter=',')\n",
        "\n",
        "total = \"\"\n",
        "with open(\"w2.txt\", \"r\") as f:\n",
        "    texts = f.readlines()\n",
        "    for text in texts:\n",
        "        total += str(text.split(\",\")).replace(\"[\", \"{\").replace(\"]\", \"}\")\n",
        "        total += \", \"\n",
        "with open(\"w2-proc.txt\", \"w\") as f:\n",
        "    f.write(total)"
      ]
    },
    {
      "cell_type": "code",
      "execution_count": null,
      "metadata": {
        "colab": {
          "background_save": true
        },
        "id": "_0w69dphcUzr",
        "outputId": "969dec8a-1cdc-47e4-e6f9-ffa57fb03a55"
      },
      "outputs": [
        {
          "data": {
            "text/plain": [
              "array([1.        , 1.        , 1.        , 1.        , 1.        ,\n",
              "       1.        , 1.        , 1.        , 1.        , 1.        ,\n",
              "       1.        , 1.        , 1.        , 1.        , 1.        ,\n",
              "       1.        , 0.99607843, 1.        , 1.        , 0.99215686,\n",
              "       1.        , 1.        , 1.        , 1.        , 1.        ,\n",
              "       1.        , 1.        , 1.        , 1.        , 1.        ,\n",
              "       1.        , 1.        , 1.        , 1.        , 1.        ,\n",
              "       1.        , 1.        , 1.        , 1.        , 1.        ,\n",
              "       1.        , 0.97647059, 0.41176471, 0.41176471, 0.39607843,\n",
              "       0.39607843, 0.38823529, 0.37647059, 0.41176471, 0.80392157,\n",
              "       0.98431373, 1.        , 1.        , 1.        , 1.        ,\n",
              "       1.        , 1.        , 1.        , 1.        , 1.        ,\n",
              "       1.        , 1.        , 1.        , 1.        , 1.        ,\n",
              "       1.        , 1.        , 1.        , 0.42352941, 0.38823529,\n",
              "       0.39607843, 0.40784314, 0.40392157, 0.40392157, 0.4       ,\n",
              "       0.40392157, 0.41176471, 0.36470588, 0.38823529, 0.98431373,\n",
              "       1.        , 1.        , 1.        , 1.        , 1.        ,\n",
              "       1.        , 1.        , 1.        , 1.        , 1.        ,\n",
              "       1.        , 1.        , 1.        , 1.        , 1.        ,\n",
              "       1.        , 0.38823529, 0.40392157, 0.40784314, 0.40784314,\n",
              "       0.40784314, 0.41960784, 0.42745098, 0.41960784, 0.43137255,\n",
              "       0.41568627, 0.40784314, 0.99607843, 1.        , 1.        ,\n",
              "       1.        , 1.        , 1.        , 1.        , 1.        ,\n",
              "       1.        , 1.        , 1.        , 1.        , 1.        ,\n",
              "       1.        , 1.        , 1.        , 1.        , 0.34117647,\n",
              "       0.41568627, 0.40392157, 0.40392157, 0.4       , 0.4       ,\n",
              "       0.40392157, 0.41176471, 0.40392157, 0.41176471, 0.38431373,\n",
              "       0.99607843, 1.        , 1.        , 1.        , 1.        ,\n",
              "       1.        , 1.        , 1.        , 1.        , 1.        ,\n",
              "       1.        , 1.        , 1.        , 1.        , 1.        ,\n",
              "       1.        , 1.        , 0.89411765, 0.72156863, 0.30980392,\n",
              "       0.36078431, 0.38039216, 0.39215686, 0.39607843, 0.37254902,\n",
              "       0.35294118, 0.25882353, 0.72941176, 1.        , 1.        ,\n",
              "       1.        , 1.        , 1.        , 1.        , 1.        ,\n",
              "       1.        , 1.        , 1.        , 1.        , 1.        ,\n",
              "       1.        , 1.        , 1.        , 1.        , 1.        ,\n",
              "       0.97647059, 0.61176471, 0.41960784, 0.48235294, 0.5372549 ,\n",
              "       0.56470588, 0.57254902, 0.4745098 , 0.41960784, 0.57647059,\n",
              "       0.76470588, 1.        , 1.        , 1.        , 1.        ,\n",
              "       1.        , 1.        , 1.        , 1.        , 0.87843137,\n",
              "       0.37647059, 0.36862745, 0.38039216, 0.36862745, 0.38431373,\n",
              "       0.42352941, 0.99607843, 1.        , 0.3372549 , 0.60784314,\n",
              "       0.58039216, 0.52156863, 0.4627451 , 0.47058824, 0.49803922,\n",
              "       0.52156863, 0.61176471, 0.57647059, 0.45490196, 0.98823529,\n",
              "       1.        , 1.        , 1.        , 1.        , 1.        ,\n",
              "       0.99215686, 0.41568627, 0.36862745, 0.37647059, 0.38431373,\n",
              "       0.37254902, 0.37254902, 0.37254902, 0.36078431, 0.38431373,\n",
              "       0.96078431, 0.32941176, 0.34117647, 0.40784314, 0.41960784,\n",
              "       0.42745098, 0.44313725, 0.50980392, 0.4627451 , 0.45098039,\n",
              "       0.36862745, 0.34901961, 0.98823529, 1.        , 1.        ,\n",
              "       1.        , 1.        , 1.        , 0.99607843, 0.38039216,\n",
              "       0.38039216, 0.38039216, 0.60784314, 0.60392157, 0.60784314,\n",
              "       0.3372549 , 0.38823529, 0.38431373, 0.55294118, 0.41960784,\n",
              "       0.27843137, 0.30196078, 0.29019608, 0.20784314, 0.16470588,\n",
              "       0.17647059, 0.29803922, 0.2627451 , 0.29411765, 0.32941176,\n",
              "       0.98823529, 1.        , 1.        , 1.        , 1.        ,\n",
              "       1.        , 0.96862745, 0.41568627, 0.37647059, 0.38039216,\n",
              "       0.37254902, 0.38039216, 0.38039216, 0.38431373, 0.38823529,\n",
              "       0.38431373, 0.96470588, 0.92941176, 0.84705882, 0.38823529,\n",
              "       0.24313725, 0.2627451 , 0.29803922, 0.31764706, 0.26666667,\n",
              "       0.30588235, 0.83137255, 0.83137255, 1.        , 1.        ,\n",
              "       1.        , 1.        , 1.        , 1.        , 1.        ,\n",
              "       0.90588235, 0.44705882, 0.32941176, 0.33333333, 0.32941176,\n",
              "       0.43529412, 0.38823529, 0.28627451, 0.81176471, 0.98039216,\n",
              "       1.        , 0.81960784, 0.74901961, 0.81176471, 0.7254902 ,\n",
              "       0.71764706, 0.73333333, 0.75686275, 0.77254902, 0.85490196,\n",
              "       0.91372549, 1.        , 1.        , 1.        , 1.        ,\n",
              "       1.        , 1.        , 0.99607843, 0.83137255, 0.56470588,\n",
              "       0.64705882, 0.54901961, 0.51372549, 0.51764706, 0.49411765,\n",
              "       0.45098039, 0.7254902 , 1.        , 0.98823529, 0.74509804,\n",
              "       0.7372549 , 0.72156863, 0.71372549, 0.70196078, 0.71764706,\n",
              "       0.74509804, 0.76862745, 0.83137255, 0.99215686, 1.        ,\n",
              "       1.        , 1.        , 1.        , 1.        , 1.        ,\n",
              "       0.97647059, 0.32941176, 0.54509804, 0.56078431, 0.56862745,\n",
              "       0.55686275, 0.52156863, 0.43921569, 0.44313725, 0.25882353,\n",
              "       0.98039216, 0.99607843, 0.98823529, 0.71372549, 0.7254902 ,\n",
              "       0.64705882, 0.65490196, 0.64705882, 0.73333333, 0.82352941,\n",
              "       0.99607843, 1.        , 1.        , 1.        , 1.        ,\n",
              "       1.        , 1.        , 1.        , 0.98823529, 0.37647059,\n",
              "       0.30980392, 0.4       , 0.22352941, 0.27058824, 0.23529412,\n",
              "       0.36078431, 0.25882353, 0.34117647, 0.99607843, 1.        ,\n",
              "       1.        , 1.        , 0.97254902, 1.        , 0.99607843,\n",
              "       1.        , 1.        , 0.99607843, 0.99215686, 1.        ,\n",
              "       1.        , 1.        , 1.        , 1.        , 1.        ,\n",
              "       1.        , 1.        , 0.87058824, 0.44313725, 0.38039216,\n",
              "       0.37254902, 0.34509804, 0.42745098, 0.34901961, 0.27058824,\n",
              "       0.80392157, 1.        , 1.        , 0.99607843, 0.85882353,\n",
              "       0.36078431, 0.39607843, 0.41176471, 0.40784314, 0.40784314,\n",
              "       0.40784314, 0.37647059, 0.4       , 0.57647059, 0.98823529,\n",
              "       1.        , 1.        , 1.        , 1.        , 0.99215686,\n",
              "       0.78039216, 0.57254902, 0.68235294, 0.52156863, 0.50588235,\n",
              "       0.50196078, 0.4627451 , 0.43137255, 0.76862745, 0.98823529,\n",
              "       0.99215686, 0.41960784, 0.37254902, 0.35686275, 0.36862745,\n",
              "       0.37254902, 0.37254902, 0.37647059, 0.38039216, 0.38039216,\n",
              "       0.38039216, 0.36470588, 0.36470588, 0.77254902, 0.99607843,\n",
              "       1.        , 1.        , 0.65490196, 0.28627451, 0.5254902 ,\n",
              "       0.51764706, 0.55686275, 0.5254902 , 0.48627451, 0.42352941,\n",
              "       0.45098039, 0.21960784, 0.98039216, 0.37254902, 0.36862745,\n",
              "       0.38039216, 0.38431373, 0.38823529, 0.38823529, 0.38823529,\n",
              "       0.39215686, 0.39215686, 0.39607843, 0.39607843, 0.39607843,\n",
              "       0.38431373, 0.38431373, 0.8745098 , 1.        , 1.        ,\n",
              "       0.99607843, 0.36862745, 0.28627451, 0.28627451, 0.22745098,\n",
              "       0.23529412, 0.18823529, 0.19607843, 0.23529412, 0.22745098,\n",
              "       0.99607843, 0.37254902, 0.37647059, 0.38431373, 0.38823529,\n",
              "       0.39215686, 0.39215686, 0.38823529, 0.38431373, 0.39607843,\n",
              "       0.4       , 0.4       , 0.4       , 0.4       , 0.3372549 ,\n",
              "       0.39215686, 1.        , 1.        , 0.99607843, 0.88235294,\n",
              "       0.46666667, 0.30196078, 0.3372549 , 0.3372549 , 0.34901961,\n",
              "       0.34509804, 0.60784314, 0.74509804, 1.        , 0.38431373,\n",
              "       0.36862745, 0.38431373, 0.38823529, 0.39215686, 0.38823529,\n",
              "       0.38823529, 0.38431373, 0.63137255, 0.67058824, 0.65882353,\n",
              "       0.50980392, 0.38431373, 0.38039216, 0.4       , 1.        ,\n",
              "       1.        , 1.        , 0.83137255, 0.76470588, 0.71372549,\n",
              "       0.66666667, 0.65098039, 0.63921569, 0.60784314, 0.65490196,\n",
              "       0.74117647, 1.        , 0.28627451, 0.41568627, 0.38039216,\n",
              "       0.38431373, 0.38823529, 0.38823529, 0.39215686, 0.38823529,\n",
              "       0.38431373, 0.38823529, 0.38823529, 0.39607843, 0.38431373,\n",
              "       0.41960784, 0.99215686, 1.        , 1.        , 1.        ,\n",
              "       0.99607843, 0.85882353, 0.71372549, 0.68627451, 0.63921569,\n",
              "       0.58039216, 0.55294118, 0.62745098, 0.97647059, 1.        ,\n",
              "       0.65098039, 0.79607843, 0.35686275, 0.44705882, 0.39215686,\n",
              "       0.38431373, 0.38039216, 0.38039216, 0.38431373, 0.38039216,\n",
              "       0.38039216, 0.36470588, 0.46666667, 0.95686275, 0.99607843,\n",
              "       1.        , 1.        , 1.        , 1.        , 1.        ,\n",
              "       0.95294118, 0.74117647, 0.68627451, 0.66666667, 0.98823529,\n",
              "       0.97647059, 1.        , 1.        , 0.75686275, 0.81960784,\n",
              "       0.74509804, 0.6627451 , 0.69019608, 0.37647059, 0.24705882,\n",
              "       0.21960784, 0.28235294, 0.46666667, 0.74117647, 0.80784314,\n",
              "       0.90980392, 0.89411765, 0.99607843, 1.        , 1.        ,\n",
              "       1.        , 1.        , 1.        , 1.        , 1.        ,\n",
              "       1.        , 1.        , 1.        , 1.        , 1.        ,\n",
              "       1.        , 0.96862745, 0.82745098, 0.75294118, 0.71372549,\n",
              "       0.70196078, 0.67843137, 0.68235294, 0.68235294, 0.71764706,\n",
              "       0.75686275, 0.78823529, 0.80392157, 0.84705882, 0.76862745,\n",
              "       1.        , 1.        , 1.        , 1.        , 1.        ,\n",
              "       1.        , 1.        , 1.        , 1.        , 1.        ,\n",
              "       1.        , 1.        , 1.        , 1.        , 1.        ,\n",
              "       0.64705882, 0.73333333, 0.74901961, 0.72941176, 0.71372549,\n",
              "       0.70588235, 0.72156863, 0.74117647, 0.76862745, 0.78823529,\n",
              "       0.78823529, 0.86666667, 0.98823529, 1.        , 1.        ,\n",
              "       1.        , 1.        , 1.        , 1.        , 1.        ,\n",
              "       1.        , 1.        , 1.        , 1.        , 1.        ,\n",
              "       1.        , 1.        , 1.        , 1.        , 0.68627451,\n",
              "       0.76078431, 0.71372549, 0.72941176, 0.72941176, 0.72941176,\n",
              "       0.74117647, 0.74901961, 0.7372549 , 0.84313725, 0.99215686,\n",
              "       1.        , 1.        , 1.        , 1.        , 1.        ,\n",
              "       1.        , 1.        , 1.        , 1.        , 1.        ,\n",
              "       1.        , 1.        , 1.        , 1.        , 1.        ,\n",
              "       1.        , 1.        , 1.        , 0.98823529, 0.87058824,\n",
              "       0.70980392, 0.73333333, 0.74117647, 0.7372549 , 0.76470588,\n",
              "       1.        , 0.99215686, 1.        , 1.        , 1.        ,\n",
              "       1.        , 1.        , 1.        , 1.        , 1.        ,\n",
              "       1.        , 1.        , 1.        , 1.        , 1.        ,\n",
              "       1.        , 1.        , 1.        , 1.        , 1.        ,\n",
              "       1.        , 1.        , 1.        , 1.        , 1.        ,\n",
              "       1.        , 1.        , 1.        , 1.        , 1.        ,\n",
              "       1.        , 1.        , 1.        , 1.        ])"
            ]
          },
          "execution_count": 24,
          "metadata": {},
          "output_type": "execute_result"
        }
      ],
      "source": [
        "X_train.flatten().reshape(21859, 28*28)[0]"
      ]
    },
    {
      "cell_type": "code",
      "execution_count": null,
      "metadata": {
        "colab": {
          "background_save": true
        },
        "id": "fmL5cZlq1BwA",
        "outputId": "81079bcb-fb7c-47dd-f47b-f52f507e1427"
      },
      "outputs": [
        {
          "data": {
            "text/plain": [
              "(2513, 28, 28)"
            ]
          },
          "execution_count": 25,
          "metadata": {},
          "output_type": "execute_result"
        }
      ],
      "source": [
        "X_test.shape"
      ]
    },
    {
      "cell_type": "code",
      "execution_count": null,
      "metadata": {
        "colab": {
          "background_save": true
        },
        "id": "OJgvWpj0ca--"
      },
      "outputs": [],
      "source": [
        "np.savetxt('i.txt', X_test.flatten().reshape(2513, 28*28)[2000] ,fmt='%1.4e', delimiter=',')\n",
        "\n",
        "total = \"\"\n",
        "with open(\"i.txt\", \"r\") as f:\n",
        "    texts = f.readlines()\n",
        "    total += str(texts).replace(\"[\", \"{\").replace(\"]\", \"}\")\n",
        "    total += \", \"\n",
        "with open(\"i-proc.txt\", \"w\") as f:\n",
        "    f.write(total)"
      ]
    },
    {
      "cell_type": "code",
      "execution_count": null,
      "metadata": {
        "colab": {
          "background_save": true
        },
        "id": "3_MikcjrceUn",
        "outputId": "8229ec03-aadd-4113-d6fd-e5e2d000580a"
      },
      "outputs": [
        {
          "data": {
            "text/plain": [
              "0"
            ]
          },
          "execution_count": 27,
          "metadata": {},
          "output_type": "execute_result"
        }
      ],
      "source": [
        "y_test[2000] "
      ]
    },
    {
      "cell_type": "code",
      "execution_count": null,
      "metadata": {
        "colab": {
          "background_save": true
        },
        "id": "xyJGVNp5NMvb",
        "outputId": "c2bc4581-32fd-4a0d-b909-e8f7bee5f33f"
      },
      "outputs": [
        {
          "name": "stdout",
          "output_type": "stream",
          "text": [
            "1/1 [==============================] - 0s 75ms/step\n"
          ]
        },
        {
          "data": {
            "text/plain": [
              "array([[0.8087148 , 0.19128513]], dtype=float32)"
            ]
          },
          "execution_count": 28,
          "metadata": {},
          "output_type": "execute_result"
        }
      ],
      "source": [
        "# \n",
        "prediction = model.predict(X_test[2000].reshape(1, 28, 28))\n",
        "prediction"
      ]
    },
    {
      "cell_type": "code",
      "execution_count": null,
      "metadata": {
        "colab": {
          "background_save": true
        },
        "id": "qHsRlCEINSK0",
        "outputId": "bb8a08c6-94ff-4e4a-e3bc-61e7d820341f"
      },
      "outputs": [
        {
          "ename": "ValueError",
          "evalue": "ignored",
          "output_type": "error",
          "traceback": [
            "\u001b[0;31m---------------------------------------------------------------------------\u001b[0m",
            "\u001b[0;31mValueError\u001b[0m                                Traceback (most recent call last)",
            "\u001b[0;32m<ipython-input-29-9bc59dd7fd69>\u001b[0m in \u001b[0;36m<module>\u001b[0;34m\u001b[0m\n\u001b[1;32m      1\u001b[0m \u001b[0mweights\u001b[0m \u001b[0;34m=\u001b[0m \u001b[0mmodel\u001b[0m\u001b[0;34m.\u001b[0m\u001b[0mget_weights\u001b[0m\u001b[0;34m(\u001b[0m\u001b[0;34m)\u001b[0m\u001b[0;34m[\u001b[0m\u001b[0;36m0\u001b[0m\u001b[0;34m]\u001b[0m\u001b[0;34m\u001b[0m\u001b[0;34m\u001b[0m\u001b[0m\n\u001b[0;32m----> 2\u001b[0;31m \u001b[0mprediction\u001b[0m \u001b[0;34m=\u001b[0m \u001b[0mnp\u001b[0m\u001b[0;34m.\u001b[0m\u001b[0mdot\u001b[0m\u001b[0;34m(\u001b[0m\u001b[0mX_train\u001b[0m\u001b[0;34m.\u001b[0m\u001b[0mflatten\u001b[0m\u001b[0;34m(\u001b[0m\u001b[0;34m)\u001b[0m\u001b[0;34m.\u001b[0m\u001b[0mreshape\u001b[0m\u001b[0;34m(\u001b[0m\u001b[0;36m60000\u001b[0m\u001b[0;34m,\u001b[0m \u001b[0;36m28\u001b[0m\u001b[0;34m*\u001b[0m\u001b[0;36m28\u001b[0m\u001b[0;34m)\u001b[0m\u001b[0;34m,\u001b[0m \u001b[0mweights\u001b[0m\u001b[0;34m)\u001b[0m\u001b[0;34m\u001b[0m\u001b[0;34m\u001b[0m\u001b[0m\n\u001b[0m\u001b[1;32m      3\u001b[0m \u001b[0mprediction\u001b[0m\u001b[0;34m[\u001b[0m\u001b[0mprediction\u001b[0m \u001b[0;34m<\u001b[0m \u001b[0;36m0\u001b[0m\u001b[0;34m]\u001b[0m \u001b[0;34m=\u001b[0m \u001b[0;36m0\u001b[0m\u001b[0;34m\u001b[0m\u001b[0;34m\u001b[0m\u001b[0m\n\u001b[1;32m      4\u001b[0m \u001b[0mprediction\u001b[0m\u001b[0;34m[\u001b[0m\u001b[0;34m:\u001b[0m\u001b[0;34m,\u001b[0m \u001b[0;34m-\u001b[0m\u001b[0;36m1\u001b[0m\u001b[0;34m]\u001b[0m \u001b[0;34m=\u001b[0m \u001b[0;36m1\u001b[0m\u001b[0;34m\u001b[0m\u001b[0;34m\u001b[0m\u001b[0m\n\u001b[1;32m      5\u001b[0m \u001b[0mweights\u001b[0m \u001b[0;34m=\u001b[0m \u001b[0mmodel\u001b[0m\u001b[0;34m.\u001b[0m\u001b[0mget_weights\u001b[0m\u001b[0;34m(\u001b[0m\u001b[0;34m)\u001b[0m\u001b[0;34m[\u001b[0m\u001b[0;36m2\u001b[0m\u001b[0;34m]\u001b[0m\u001b[0;34m\u001b[0m\u001b[0;34m\u001b[0m\u001b[0m\n",
            "\u001b[0;31mValueError\u001b[0m: cannot reshape array of size 17137456 into shape (60000,784)"
          ]
        }
      ],
      "source": [
        "weights = model.get_weights()[0]\n",
        "prediction = np.dot(X_train.flatten().reshape(60000, 28*28), weights) \n",
        "prediction[prediction < 0] = 0\n",
        "prediction[:, -1] = 1\n",
        "weights = model.get_weights()[2]\n",
        "prediction = np.dot(prediction, weights)\n",
        "prediction = softmax(prediction)\n",
        "\n",
        "np.argmax(prediction[0])"
      ]
    }
  ],
  "metadata": {
    "colab": {
      "provenance": []
    },
    "kernelspec": {
      "display_name": "Python 3.10.4 64-bit",
      "language": "python",
      "name": "python3"
    },
    "language_info": {
      "name": "python",
      "version": "3.10.4"
    },
    "vscode": {
      "interpreter": {
        "hash": "369f2c481f4da34e4445cda3fffd2e751bd1c4d706f27375911949ba6bb62e1c"
      }
    }
  },
  "nbformat": 4,
  "nbformat_minor": 0
}
